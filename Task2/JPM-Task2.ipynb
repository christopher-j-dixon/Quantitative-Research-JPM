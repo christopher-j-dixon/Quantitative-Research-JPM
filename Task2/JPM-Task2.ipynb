{
 "cells": [
  {
   "cell_type": "markdown",
   "id": "30049672-f946-43ed-ab87-99cd9a64d439",
   "metadata": {},
   "source": [
    "# Gas Storage Contract Value Calculation\n",
    "\n",
    "This notebook calculates the value of a gas storage contract based on provided parameters, including injection and withdrawal dates, gas prices, transfer rate, storage capacity, and costs."
   ]
  },
  {
   "cell_type": "markdown",
   "id": "0b887372-d621-4172-8095-05fa992a515b",
   "metadata": {},
   "source": [
    "## Import Libraries\n",
    "\n",
    "First, we import the necessary libraries."
   ]
  },
  {
   "cell_type": "code",
   "execution_count": 21,
   "id": "e21b8475-f0c6-443d-9e00-887605d6820d",
   "metadata": {},
   "outputs": [],
   "source": [
    "# Import the necessary libraries.\n",
    "import pandas as pd"
   ]
  },
  {
   "cell_type": "markdown",
   "id": "a2a85db5-eb96-4014-b8d1-c3f35a5cd559",
   "metadata": {},
   "source": [
    "## Function Definition\n",
    "\n",
    "The main function, final_fixed_transfer_contract_value, calculates the value of the contract. Below is the function definition with detailed explanations of its parameters and internal logic."
   ]
  },
  {
   "cell_type": "code",
   "execution_count": 23,
   "id": "e8047889-266c-4a2e-bf8d-2429a8517f6a",
   "metadata": {},
   "outputs": [],
   "source": [
    "def final_fixed_transfer_contract_value(injection_dates, withdrawal_dates, gas_prices, \n",
    "                                        transfer_rate, maximum_volume, storage_cost_per_month, \n",
    "                                        fixed_transfer_cost=10000):\n",
    "    \"\"\"\n",
    "    Calculates the value of the contract based on the provided parameters.\n",
    "    \n",
    "    Parameters:\n",
    "    - injection_dates (list): List of dates (days) when gas is injected into storage.\n",
    "    - withdrawal_dates (list): List of dates (days) when gas is withdrawn from storage.\n",
    "    - gas_prices (DataFrame): Dataframe of gas prices on the given date ($).\n",
    "    - transfer_rate (float): Rate of gas to that can be injected/withdrawn per day (MMBtu/day).\n",
    "    - maximum_volume (float): Maximum storage capacity (MMBtu).\n",
    "    - storage_cost_per_month (float): Cost to store gas per month ($/month).\n",
    "    - fixed_transfer_cost (float): Fixed cost per transfer event ($).\n",
    "\n",
    "    Returns:\n",
    "    (float): Returns the value of the contract ($).\n",
    "    \"\"\"\n",
    "    # Convert all dates to datetime format\n",
    "    injection_dates = pd.to_datetime(injection_dates)\n",
    "    withdrawal_dates = pd.to_datetime(withdrawal_dates)\n",
    "    gas_prices['Dates'] = pd.to_datetime(gas_prices['Dates'])\n",
    "\n",
    "    # Sort the dates\n",
    "    injection_dates = sorted(injection_dates)\n",
    "    withdrawal_dates = sorted(withdrawal_dates)\n",
    "    \n",
    "    # Data validation\n",
    "    if not all(date in gas_prices['Dates'].values for date in injection_dates + withdrawal_dates):\n",
    "        raise ValueError(\"Some injection or withdrawal dates do not have corresponding gas prices.\")\n",
    "    \n",
    "    # Ensure storage capacity is not exceeded\n",
    "    current_volume = 0\n",
    "    for date in sorted(set(injection_dates + withdrawal_dates)):\n",
    "        if date in injection_dates:\n",
    "            current_volume += transfer_rate\n",
    "        if date in withdrawal_dates:\n",
    "            current_volume -= transfer_rate\n",
    "        if current_volume > maximum_volume:\n",
    "            raise ValueError('The total volume injected exceeds the storage capacity.')\n",
    "    \n",
    "    # Calculate the gas sales revenue\n",
    "    sales_revenue = 0\n",
    "    withdrawal_prices = gas_prices[gas_prices['Dates'].isin(withdrawal_dates)]\n",
    "    withdrawal_prices = withdrawal_prices.groupby('Dates')['Prices'].first().reset_index()\n",
    "    for _, row in withdrawal_prices.iterrows():\n",
    "        sales_revenue += row['Prices'] * transfer_rate\n",
    "\n",
    "    # Calculate the gas purchase cost\n",
    "    purchase_cost = 0\n",
    "    injection_prices = gas_prices[gas_prices['Dates'].isin(injection_dates)]\n",
    "    injection_prices = injection_prices.groupby('Dates')['Prices'].first().reset_index()\n",
    "    for _, row in injection_prices.iterrows():\n",
    "        purchase_cost += row['Prices'] * transfer_rate\n",
    "\n",
    "    # Calculate the cost to withdraw and inject the gas (Fixed cost per transfer event)\n",
    "    transfer_dates = set(injection_dates + withdrawal_dates)\n",
    "    transfer_cost = fixed_transfer_cost * len(transfer_dates)\n",
    "\n",
    "    # Calculate total storage months\n",
    "    storage_cost = 0\n",
    "    for date_i in injection_dates:\n",
    "        relevant_withdrawal_dates = [date_w for date_w in withdrawal_dates if date_w > date_i]\n",
    "        if relevant_withdrawal_dates:\n",
    "            date_w = relevant_withdrawal_dates[0]\n",
    "            months_difference = (date_w.year - date_i.year) * 12 + (date_w.month - date_i.month)\n",
    "            if date_w.day < date_i.day:\n",
    "                months_difference -= 1\n",
    "            storage_cost += months_difference * storage_cost_per_month\n",
    "\n",
    "    # Total costs from purchase, transfer, and storage\n",
    "    total_cost = purchase_cost + storage_cost + transfer_cost\n",
    "\n",
    "    # Calculate the contract's net value\n",
    "    contract_value_result = sales_revenue - total_cost\n",
    "\n",
    "    return contract_value_result"
   ]
  },
  {
   "cell_type": "markdown",
   "id": "51396cde-ac0d-4f3b-a14b-78739493ec0c",
   "metadata": {},
   "source": [
    "## Explanation\n",
    "\n",
    "### Parameters\n",
    "\n",
    "- **injection_dates**: List of dates when gas is injected into storage.\n",
    "- **withdrawal_dates**: List of dates when gas is withdrawn from storage.\n",
    "- **gas_prices**: DataFrame containing gas prices on given dates.\n",
    "- **transfer_rate**: Rate of gas that can be injected/withdrawn per day (MMBtu/day).\n",
    "- **maximum_volume**: Maximum storage capacity (MMBtu).\n",
    "- **storage_cost_per_month**: Cost to store gas per month ($/month).\n",
    "- **fixed_transfer_cost**: Fixed cost per transfer event ($).\n",
    "\n",
    "### Steps\n",
    "\n",
    "1. **Convert Dates**: Convert injection and withdrawal dates to datetime format.\n",
    "2. **Sort Dates**: Sort injection and withdrawal dates.\n",
    "3. **Data Validation**: Ensure all injection and withdrawal dates have corresponding gas prices.\n",
    "4. **Capacity Check**: Ensure storage capacity is not exceeded at any point.\n",
    "5. **Sales Revenue Calculation**: Calculate total revenue from selling gas at withdrawal dates.\n",
    "6. **Purchase Cost Calculation**: Calculate total cost of purchasing gas at injection dates.\n",
    "7. **Transfer Cost Calculation**: Calculate the total fixed cost of transfer events.\n",
    "8. **Storage Cost Calculation**: Calculate the total cost of storing gas.\n",
    "9. **Total Cost Calculation**: Sum up the purchase, storage, and transfer costs.\n",
    "10. **Contract Value Calculation**: Subtract total costs from sales revenue to determine the contract's net value.\n",
    "\n",
    "## Usage Example\n",
    "\n",
    "Below is an example of how to use the function with sample data.\n"
   ]
  },
  {
   "cell_type": "code",
   "execution_count": 25,
   "id": "ffb04bc2-5367-4f56-96c5-252d515e39f5",
   "metadata": {},
   "outputs": [
    {
     "name": "stdout",
     "output_type": "stream",
     "text": [
      "The value of the contract is: $-64000.0\n"
     ]
    }
   ],
   "source": [
    "# Sample data\n",
    "injection_dates = ['2024-01-01', '2024-02-01', '2024-03-01']\n",
    "withdrawal_dates = ['2024-06-01', '2024-07-01']\n",
    "gas_prices = pd.DataFrame({\n",
    "    'Dates': ['2024-01-01', '2024-02-01', '2024-03-01', '2024-06-01', '2024-07-01'],\n",
    "    'Prices': [5.0, 5.5, 6.0, 7.0, 7.5]\n",
    "})\n",
    "transfer_rate = 1000  # MMBtu/day\n",
    "maximum_volume = 5000  # MMBtu\n",
    "storage_cost_per_month = 1000  # $/month\n",
    "\n",
    "# Function call\n",
    "contract_value = final_fixed_transfer_contract_value(injection_dates, withdrawal_dates, gas_prices, \n",
    "                                                     transfer_rate, maximum_volume, storage_cost_per_month)\n",
    "print(f\"The value of the contract is: ${contract_value}\")\n"
   ]
  },
  {
   "cell_type": "markdown",
   "id": "ea110e6f-5be2-45e1-a155-f3c2de148229",
   "metadata": {},
   "source": [
    "By following these steps, you can calculate the value of a gas storage contract based on your specific parameters. This notebook provides a clear and structured way to perform these calculations and ensures data integrity through validation checks."
   ]
  }
 ],
 "metadata": {
  "kernelspec": {
   "display_name": "Python 3 (ipykernel)",
   "language": "python",
   "name": "python3"
  },
  "language_info": {
   "codemirror_mode": {
    "name": "ipython",
    "version": 3
   },
   "file_extension": ".py",
   "mimetype": "text/x-python",
   "name": "python",
   "nbconvert_exporter": "python",
   "pygments_lexer": "ipython3",
   "version": "3.12.4"
  }
 },
 "nbformat": 4,
 "nbformat_minor": 5
}
