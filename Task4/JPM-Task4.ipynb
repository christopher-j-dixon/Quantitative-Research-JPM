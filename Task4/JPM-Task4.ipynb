{
 "cells": [
  {
   "cell_type": "markdown",
   "id": "db6648d0-f03f-448a-aed8-4ce62324dc0b",
   "metadata": {},
   "source": [
    "# Mortgage Default Prediction - FICO Score Binning\n",
    "\n",
    "In this notebook, we will analyse FICO scores from a mortgage dataset to create optimal buckets that can be used to predict the probability of default (PD). The goal is to find the best way to bin FICO scores into a set number of categories that can be used in a machine learning model.\n",
    "\n",
    "## Step 1: Load and Explore the Data\n",
    "\n",
    "First, we will load the dataset and explore its structure."
   ]
  },
  {
   "cell_type": "code",
   "execution_count": 65,
   "id": "beca8c8d-b211-4820-bf31-1648b1f6f829",
   "metadata": {},
   "outputs": [],
   "source": [
    "# Import Necessary Libraries\n",
    "import pandas as pd\n",
    "import numpy as np\n",
    "import matplotlib.pyplot as plt\n",
    "from math import log\n",
    "import seaborn as sns"
   ]
  },
  {
   "cell_type": "code",
   "execution_count": 66,
   "id": "eecce3d9-3765-40ff-9316-0c8190796ef3",
   "metadata": {},
   "outputs": [
    {
     "data": {
      "text/html": [
       "<div>\n",
       "<style scoped>\n",
       "    .dataframe tbody tr th:only-of-type {\n",
       "        vertical-align: middle;\n",
       "    }\n",
       "\n",
       "    .dataframe tbody tr th {\n",
       "        vertical-align: top;\n",
       "    }\n",
       "\n",
       "    .dataframe thead th {\n",
       "        text-align: right;\n",
       "    }\n",
       "</style>\n",
       "<table border=\"1\" class=\"dataframe\">\n",
       "  <thead>\n",
       "    <tr style=\"text-align: right;\">\n",
       "      <th></th>\n",
       "      <th>customer_id</th>\n",
       "      <th>credit_lines_outstanding</th>\n",
       "      <th>loan_amt_outstanding</th>\n",
       "      <th>total_debt_outstanding</th>\n",
       "      <th>income</th>\n",
       "      <th>years_employed</th>\n",
       "      <th>fico_score</th>\n",
       "      <th>default</th>\n",
       "    </tr>\n",
       "  </thead>\n",
       "  <tbody>\n",
       "    <tr>\n",
       "      <th>0</th>\n",
       "      <td>8153374</td>\n",
       "      <td>0</td>\n",
       "      <td>5221.545193</td>\n",
       "      <td>3915.471226</td>\n",
       "      <td>78039.38546</td>\n",
       "      <td>5</td>\n",
       "      <td>605</td>\n",
       "      <td>0</td>\n",
       "    </tr>\n",
       "    <tr>\n",
       "      <th>1</th>\n",
       "      <td>7442532</td>\n",
       "      <td>5</td>\n",
       "      <td>1958.928726</td>\n",
       "      <td>8228.752520</td>\n",
       "      <td>26648.43525</td>\n",
       "      <td>2</td>\n",
       "      <td>572</td>\n",
       "      <td>1</td>\n",
       "    </tr>\n",
       "    <tr>\n",
       "      <th>2</th>\n",
       "      <td>2256073</td>\n",
       "      <td>0</td>\n",
       "      <td>3363.009259</td>\n",
       "      <td>2027.830850</td>\n",
       "      <td>65866.71246</td>\n",
       "      <td>4</td>\n",
       "      <td>602</td>\n",
       "      <td>0</td>\n",
       "    </tr>\n",
       "    <tr>\n",
       "      <th>3</th>\n",
       "      <td>4885975</td>\n",
       "      <td>0</td>\n",
       "      <td>4766.648001</td>\n",
       "      <td>2501.730397</td>\n",
       "      <td>74356.88347</td>\n",
       "      <td>5</td>\n",
       "      <td>612</td>\n",
       "      <td>0</td>\n",
       "    </tr>\n",
       "    <tr>\n",
       "      <th>4</th>\n",
       "      <td>4700614</td>\n",
       "      <td>1</td>\n",
       "      <td>1345.827718</td>\n",
       "      <td>1768.826187</td>\n",
       "      <td>23448.32631</td>\n",
       "      <td>6</td>\n",
       "      <td>631</td>\n",
       "      <td>0</td>\n",
       "    </tr>\n",
       "  </tbody>\n",
       "</table>\n",
       "</div>"
      ],
      "text/plain": [
       "   customer_id  credit_lines_outstanding  loan_amt_outstanding  \\\n",
       "0      8153374                         0           5221.545193   \n",
       "1      7442532                         5           1958.928726   \n",
       "2      2256073                         0           3363.009259   \n",
       "3      4885975                         0           4766.648001   \n",
       "4      4700614                         1           1345.827718   \n",
       "\n",
       "   total_debt_outstanding       income  years_employed  fico_score  default  \n",
       "0             3915.471226  78039.38546               5         605        0  \n",
       "1             8228.752520  26648.43525               2         572        1  \n",
       "2             2027.830850  65866.71246               4         602        0  \n",
       "3             2501.730397  74356.88347               5         612        0  \n",
       "4             1768.826187  23448.32631               6         631        0  "
      ]
     },
     "execution_count": 66,
     "metadata": {},
     "output_type": "execute_result"
    }
   ],
   "source": [
    "# Load the data\n",
    "file_path = 'Task 3 and 4_Loan_Data.csv'\n",
    "df = pd.read_csv(file_path)\n",
    "\n",
    "# Display the first few rows of the dataset\n",
    "loan_data.head()"
   ]
  },
  {
   "cell_type": "markdown",
   "id": "8e5b5a49-1824-44fd-91ec-d9416fa09246",
   "metadata": {},
   "source": [
    "## Step 2: Explore the Distribution of FICO Scores\n",
    "\n",
    "We will visualise the distribution of FICO scores to understand their range and frequency."
   ]
  },
  {
   "cell_type": "code",
   "execution_count": 68,
   "id": "61cb02d4-d266-4962-9a1c-65fd7f0cbb7b",
   "metadata": {},
   "outputs": [
    {
     "data": {
      "image/png": "[encoded data removed]",
      "text/plain": [
       "<Figure size 1000x600 with 1 Axes>"
      ]
     },
     "metadata": {},
     "output_type": "display_data"
    }
   ],
   "source": [
    "# Plot the distribution of FICO scores\n",
    "plt.figure(figsize=(10, 6))\n",
    "plt.hist(df['fico_score'], bins=50, edgecolor='k')\n",
    "plt.title('Distribution of FICO Scores')\n",
    "plt.xlabel('FICO Score')\n",
    "plt.ylabel('Frequency')\n",
    "plt.grid(True)\n",
    "plt.show()"
   ]
  },
  {
   "cell_type": "markdown",
   "id": "d4fa6f37-6be9-4a6f-a94f-80bc80c5616f",
   "metadata": {},
   "source": [
    "## Step 3: Data Preparation\n",
    "\n",
    "We need to prepare the data by calculating cumulative defaults and totals for each FICO score."
   ]
  },
  {
   "cell_type": "code",
   "execution_count": 70,
   "id": "859e5172-ff39-4c02-942c-4eef73ec9bb4",
   "metadata": {},
   "outputs": [],
   "source": [
    "# Prepare the data\n",
    "x = df['default'].tolist()\n",
    "y = df['fico_score'].tolist()\n",
    "n = len(x)\n",
    "\n",
    "default = [0] * 551  # For FICO scores 300 to 850\n",
    "total = [0] * 551\n",
    "\n",
    "# Calculate defaults and totals\n",
    "for i in range(n):\n",
    "    y[i] = int(y[i])\n",
    "    index = y[i] - 300\n",
    "    default[index] += x[i]\n",
    "    total[index] += 1\n",
    "\n",
    "# Calculate cumulative defaults and totals\n",
    "for i in range(1, 551):\n",
    "    default[i] += default[i - 1]\n",
    "    total[i] += total[i - 1]"
   ]
  },
  {
   "cell_type": "markdown",
   "id": "cb5d68d6-ecd3-4ebd-98ce-f98135d387c6",
   "metadata": {},
   "source": [
    "## Step 4: Define the Log-Likelihood Function\n",
    "\n",
    "We will use the log-likelihood function to evaluate the quality of our bins."
   ]
  },
  {
   "cell_type": "code",
   "execution_count": 72,
   "id": "f7889952-fb2f-49fa-8bd1-906f53f9523e",
   "metadata": {},
   "outputs": [],
   "source": [
    "# Define log-likelihood function\n",
    "def log_likelihood(n, k):\n",
    "    if n == 0:\n",
    "        return 0\n",
    "    p = k / n\n",
    "    if p == 0 or p == 1:\n",
    "        return 0\n",
    "    return k * log(p) + (n - k) * log(1 - p)"
   ]
  },
  {
   "cell_type": "markdown",
   "id": "fccdc7ff-cc68-4b3b-889f-7d66ada77269",
   "metadata": {},
   "source": [
    "## Step 5: Dynamic Programming for Optimised Binning\n",
    "\n",
    "Using dynamic programming, we will find the optimal boundaries for the buckets to maximise the log-likelihood."
   ]
  },
  {
   "cell_type": "code",
   "execution_count": 74,
   "id": "f4658b42-ad5b-45b2-97b5-670d7ac17d33",
   "metadata": {},
   "outputs": [
    {
     "name": "stdout",
     "output_type": "stream",
     "text": [
      "Log-Likelihood: -4217.8245\n",
      "Bucket Boundaries: [520, 552, 580, 611, 649, 696, 732, 752, 753, 850]\n"
     ]
    }
   ],
   "source": [
    "# Dynamic programming for optimised binning\n",
    "r = 10  # Number of buckets\n",
    "dp = [[[-10**18, 0] for _ in range(551)] for _ in range(r + 1)]\n",
    "\n",
    "for i in range(r + 1):\n",
    "    for j in range(551):\n",
    "        if i == 0:\n",
    "            dp[i][j][0] = 0\n",
    "        else:\n",
    "            for k in range(j):\n",
    "                if total[j] == total[k]:\n",
    "                    continue\n",
    "                if i == 1:\n",
    "                    dp[i][j][0] = log_likelihood(total[j], default[j])\n",
    "                else:\n",
    "                    new_ll = dp[i - 1][k][0] + log_likelihood(total[j] - total[k], default[j] - default[k])\n",
    "                    if dp[i][j][0] < new_ll:\n",
    "                        dp[i][j][0] = new_ll\n",
    "                        dp[i][j][1] = k\n",
    "\n",
    "# Extract bucket boundaries\n",
    "k = 550\n",
    "l = []\n",
    "current_r = r\n",
    "while current_r > 0:\n",
    "    l.append(k + 300)\n",
    "    k = dp[current_r][k][1]\n",
    "    current_r -= 1\n",
    "\n",
    "# Reverse to get boundaries in ascending order\n",
    "l.reverse()\n",
    "\n",
    "# Print results\n",
    "print(\"Log-Likelihood:\", round(dp[r][550][0], 4))\n",
    "print(\"Bucket Boundaries:\", l)"
   ]
  },
  {
   "cell_type": "markdown",
   "id": "a3bff9e7-68da-47e2-a237-d2efcfd39301",
   "metadata": {},
   "source": [
    "## Step 6: Results\n",
    "\n",
    "We have successfully calculated the optimal bucket boundaries for the FICO scores. These boundaries can now be used in a machine learning model to predict the probability of default."
   ]
  }
 ],
 "metadata": {
  "kernelspec": {
   "display_name": "Python 3 (ipykernel)",
   "language": "python",
   "name": "python3"
  },
  "language_info": {
   "codemirror_mode": {
    "name": "ipython",
    "version": 3
   },
   "file_extension": ".py",
   "mimetype": "text/x-python",
   "name": "python",
   "nbconvert_exporter": "python",
   "pygments_lexer": "ipython3",
   "version": "3.12.4"
  }
 },
 "nbformat": 4,
 "nbformat_minor": 5
}
